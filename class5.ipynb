{
 "cells": [
  {
   "cell_type": "markdown",
   "metadata": {},
   "source": [
    "## Python"
   ]
  },
  {
   "cell_type": "code",
   "execution_count": 1,
   "metadata": {},
   "outputs": [
    {
     "name": "stdout",
     "output_type": "stream",
     "text": [
      "1\n",
      "2\n",
      "3\n",
      "180\n"
     ]
    }
   ],
   "source": [
    "class DriveBot:\n",
    "  # Create a counter to keep track of how many robots were created\n",
    "    all_disabled = False\n",
    "    latitude = -999999\n",
    "    longitude = -999999\n",
    "    robot_count = 0\n",
    "\n",
    "    def __init__(self, motor_speed = 0, direction = 180, sensor_range = 10):\n",
    "        self.motor_speed = motor_speed\n",
    "        self.direction = direction\n",
    "        self.sensor_range = sensor_range\n",
    "        DriveBot.robot_count += 1\n",
    "        self.id = DriveBot.robot_count\n",
    "        # Assign an `id` to the robot when it is constructed by incrementing the counter and assigning the value to `id`\n",
    "\n",
    "    def control_bot(self, new_speed, new_direction):\n",
    "        self.motor_speed = new_speed\n",
    "        self.direction = new_direction\n",
    "\n",
    "    def adjust_sensor(self, new_sensor_range):\n",
    "        self.sensor_range = new_sensor_range\n",
    "\n",
    "robot_1 = DriveBot()\n",
    "robot_1.motor_speed = 5\n",
    "robot_1.direction = 90\n",
    "robot_1.sensor_range = 10\n",
    "\n",
    "robot_2 = DriveBot(35, 75, 25)\n",
    "robot_3 = DriveBot(20, 60, 10)\n",
    "robot_4 = DriveBot()\n",
    "\n",
    "print(robot_1.id)\n",
    "print(robot_2.id)\n",
    "print(robot_3.id)\n",
    "print(robot_4.direction)"
   ]
  }
 ],
 "metadata": {
  "kernelspec": {
   "display_name": "Python 3",
   "language": "python",
   "name": "python3"
  },
  "language_info": {
   "codemirror_mode": {
    "name": "ipython",
    "version": 3
   },
   "file_extension": ".py",
   "mimetype": "text/x-python",
   "name": "python",
   "nbconvert_exporter": "python",
   "pygments_lexer": "ipython3",
   "version": "3.10.8"
  }
 },
 "nbformat": 4,
 "nbformat_minor": 0
}
